{
 "cells": [
  {
   "cell_type": "code",
   "execution_count": 1,
   "id": "2cffb624-075b-41fb-82f2-3e1d79c0fae4",
   "metadata": {},
   "outputs": [
    {
     "name": "stdout",
     "output_type": "stream",
     "text": [
      "Defaulting to user installation because normal site-packages is not writeable\n",
      "Requirement already satisfied: tensorflow==2.12.0 in /home/kishore/.local/lib/python3.10/site-packages (2.12.0)\n",
      "Requirement already satisfied: opencv-python in /home/kishore/.local/lib/python3.10/site-packages (4.7.0.72)\n",
      "Requirement already satisfied: matplotlib in /usr/lib/python3/dist-packages (3.5.1)\n",
      "Requirement already satisfied: google-pasta>=0.1.1 in /home/kishore/.local/lib/python3.10/site-packages (from tensorflow==2.12.0) (0.2.0)\n",
      "Requirement already satisfied: tensorflow-io-gcs-filesystem>=0.23.1 in /home/kishore/.local/lib/python3.10/site-packages (from tensorflow==2.12.0) (0.32.0)\n",
      "Requirement already satisfied: wrapt<1.15,>=1.11.0 in /usr/lib/python3/dist-packages (from tensorflow==2.12.0) (1.13.3)\n",
      "Requirement already satisfied: flatbuffers>=2.0 in /home/kishore/.local/lib/python3.10/site-packages (from tensorflow==2.12.0) (23.5.26)\n",
      "Requirement already satisfied: astunparse>=1.6.0 in /home/kishore/.local/lib/python3.10/site-packages (from tensorflow==2.12.0) (1.6.3)\n",
      "Requirement already satisfied: opt-einsum>=2.3.2 in /home/kishore/.local/lib/python3.10/site-packages (from tensorflow==2.12.0) (3.3.0)\n",
      "Requirement already satisfied: six>=1.12.0 in /usr/lib/python3/dist-packages (from tensorflow==2.12.0) (1.16.0)\n",
      "Requirement already satisfied: gast<=0.4.0,>=0.2.1 in /home/kishore/.local/lib/python3.10/site-packages (from tensorflow==2.12.0) (0.4.0)\n",
      "Requirement already satisfied: libclang>=13.0.0 in /home/kishore/.local/lib/python3.10/site-packages (from tensorflow==2.12.0) (16.0.0)\n",
      "Requirement already satisfied: typing-extensions>=3.6.6 in /home/kishore/.local/lib/python3.10/site-packages (from tensorflow==2.12.0) (4.6.3)\n",
      "Requirement already satisfied: tensorflow-estimator<2.13,>=2.12.0 in /home/kishore/.local/lib/python3.10/site-packages (from tensorflow==2.12.0) (2.12.0)\n",
      "Requirement already satisfied: setuptools in /usr/lib/python3/dist-packages (from tensorflow==2.12.0) (59.6.0)\n",
      "Requirement already satisfied: tensorboard<2.13,>=2.12 in /home/kishore/.local/lib/python3.10/site-packages (from tensorflow==2.12.0) (2.12.3)\n",
      "Requirement already satisfied: termcolor>=1.1.0 in /home/kishore/.local/lib/python3.10/site-packages (from tensorflow==2.12.0) (2.3.0)\n",
      "Requirement already satisfied: protobuf!=4.21.0,!=4.21.1,!=4.21.2,!=4.21.3,!=4.21.4,!=4.21.5,<5.0.0dev,>=3.20.3 in /home/kishore/.local/lib/python3.10/site-packages (from tensorflow==2.12.0) (4.23.2)\n",
      "Requirement already satisfied: h5py>=2.9.0 in /home/kishore/.local/lib/python3.10/site-packages (from tensorflow==2.12.0) (3.8.0)\n",
      "Requirement already satisfied: numpy<1.24,>=1.22 in /home/kishore/.local/lib/python3.10/site-packages (from tensorflow==2.12.0) (1.23.5)\n",
      "Requirement already satisfied: keras<2.13,>=2.12.0 in /home/kishore/.local/lib/python3.10/site-packages (from tensorflow==2.12.0) (2.12.0)\n",
      "Requirement already satisfied: absl-py>=1.0.0 in /home/kishore/.local/lib/python3.10/site-packages (from tensorflow==2.12.0) (1.4.0)\n",
      "Requirement already satisfied: jax>=0.3.15 in /home/kishore/.local/lib/python3.10/site-packages (from tensorflow==2.12.0) (0.4.12)\n",
      "Requirement already satisfied: packaging in /usr/lib/python3/dist-packages (from tensorflow==2.12.0) (21.3)\n",
      "Requirement already satisfied: grpcio<2.0,>=1.24.3 in /home/kishore/.local/lib/python3.10/site-packages (from tensorflow==2.12.0) (1.54.2)\n",
      "Requirement already satisfied: wheel<1.0,>=0.23.0 in /usr/lib/python3/dist-packages (from astunparse>=1.6.0->tensorflow==2.12.0) (0.37.1)\n",
      "Requirement already satisfied: scipy>=1.7 in /usr/lib/python3/dist-packages (from jax>=0.3.15->tensorflow==2.12.0) (1.8.0)\n",
      "Requirement already satisfied: ml-dtypes>=0.1.0 in /home/kishore/.local/lib/python3.10/site-packages (from jax>=0.3.15->tensorflow==2.12.0) (0.2.0)\n",
      "Requirement already satisfied: google-auth<3,>=1.6.3 in /home/kishore/.local/lib/python3.10/site-packages (from tensorboard<2.13,>=2.12->tensorflow==2.12.0) (2.19.1)\n",
      "Requirement already satisfied: requests<3,>=2.21.0 in /home/kishore/.local/lib/python3.10/site-packages (from tensorboard<2.13,>=2.12->tensorflow==2.12.0) (2.31.0)\n",
      "Requirement already satisfied: tensorboard-data-server<0.8.0,>=0.7.0 in /home/kishore/.local/lib/python3.10/site-packages (from tensorboard<2.13,>=2.12->tensorflow==2.12.0) (0.7.0)\n",
      "Requirement already satisfied: markdown>=2.6.8 in /home/kishore/.local/lib/python3.10/site-packages (from tensorboard<2.13,>=2.12->tensorflow==2.12.0) (3.4.3)\n",
      "Requirement already satisfied: werkzeug>=1.0.1 in /home/kishore/.local/lib/python3.10/site-packages (from tensorboard<2.13,>=2.12->tensorflow==2.12.0) (2.3.6)\n",
      "Requirement already satisfied: google-auth-oauthlib<1.1,>=0.5 in /home/kishore/.local/lib/python3.10/site-packages (from tensorboard<2.13,>=2.12->tensorflow==2.12.0) (1.0.0)\n",
      "Requirement already satisfied: urllib3<2.0 in /usr/lib/python3/dist-packages (from google-auth<3,>=1.6.3->tensorboard<2.13,>=2.12->tensorflow==2.12.0) (1.26.5)\n",
      "Requirement already satisfied: pyasn1-modules>=0.2.1 in /home/kishore/.local/lib/python3.10/site-packages (from google-auth<3,>=1.6.3->tensorboard<2.13,>=2.12->tensorflow==2.12.0) (0.3.0)\n",
      "Requirement already satisfied: cachetools<6.0,>=2.0.0 in /home/kishore/.local/lib/python3.10/site-packages (from google-auth<3,>=1.6.3->tensorboard<2.13,>=2.12->tensorflow==2.12.0) (5.3.1)\n",
      "Requirement already satisfied: rsa<5,>=3.1.4 in /home/kishore/.local/lib/python3.10/site-packages (from google-auth<3,>=1.6.3->tensorboard<2.13,>=2.12->tensorflow==2.12.0) (4.9)\n",
      "Requirement already satisfied: requests-oauthlib>=0.7.0 in /home/kishore/.local/lib/python3.10/site-packages (from google-auth-oauthlib<1.1,>=0.5->tensorboard<2.13,>=2.12->tensorflow==2.12.0) (1.3.1)\n",
      "Requirement already satisfied: charset-normalizer<4,>=2 in /home/kishore/.local/lib/python3.10/site-packages (from requests<3,>=2.21.0->tensorboard<2.13,>=2.12->tensorflow==2.12.0) (3.1.0)\n",
      "Requirement already satisfied: idna<4,>=2.5 in /usr/lib/python3/dist-packages (from requests<3,>=2.21.0->tensorboard<2.13,>=2.12->tensorflow==2.12.0) (3.3)\n",
      "Requirement already satisfied: certifi>=2017.4.17 in /usr/lib/python3/dist-packages (from requests<3,>=2.21.0->tensorboard<2.13,>=2.12->tensorflow==2.12.0) (2020.6.20)\n",
      "Requirement already satisfied: MarkupSafe>=2.1.1 in /home/kishore/.local/lib/python3.10/site-packages (from werkzeug>=1.0.1->tensorboard<2.13,>=2.12->tensorflow==2.12.0) (2.1.3)\n",
      "Requirement already satisfied: pyasn1<0.6.0,>=0.4.6 in /home/kishore/.local/lib/python3.10/site-packages (from pyasn1-modules>=0.2.1->google-auth<3,>=1.6.3->tensorboard<2.13,>=2.12->tensorflow==2.12.0) (0.5.0)\n",
      "Requirement already satisfied: oauthlib>=3.0.0 in /usr/lib/python3/dist-packages (from requests-oauthlib>=0.7.0->google-auth-oauthlib<1.1,>=0.5->tensorboard<2.13,>=2.12->tensorflow==2.12.0) (3.2.0)\n"
     ]
    }
   ],
   "source": [
    "!pip install tensorflow==2.12.0 opencv-python matplotlib"
   ]
  },
  {
   "cell_type": "code",
   "execution_count": 2,
   "id": "42da97a6-7685-473e-98f8-d406291c7d87",
   "metadata": {},
   "outputs": [],
   "source": [
    "import cv2\n",
    "import os\n",
    "import random\n",
    "import numpy as np\n",
    "import uuid\n",
    "\n",
    "from matplotlib import pyplot as plt"
   ]
  },
  {
   "cell_type": "code",
   "execution_count": 4,
   "id": "ae3c0188-e7c4-479a-9e00-be8376327787",
   "metadata": {},
   "outputs": [],
   "source": [
    "# Import tensorflow dependencies functional API\n",
    "\n",
    "\n",
    "from tensorflow.keras.models import Model\n",
    "# In Model u pass inputs and outputs \"Model(inputs=[inputimage, verificatioimage] ,outputss[1,0])\"\n",
    "#\n",
    "from tensorflow.keras.layers import Layer,Conv2D,Dense,MaxPooling2D,Input,Flatten\n",
    "\n",
    "# Layer class is a high level layer allows us to define a custom layer and we can create a whole new class and generate a new Layer\n",
    "# class L1Dist(Layer)\n",
    "\n",
    "# Input says what input is to be given\n",
    "\n",
    "# Flatten => COnvert convolutinal layer to dense layer\n",
    "\n",
    "import tensorflow as tf\n",
    "# "
   ]
  },
  {
   "cell_type": "code",
   "execution_count": 5,
   "id": "73611a70-ae7b-42a8-8b84-14da75a2aff4",
   "metadata": {},
   "outputs": [],
   "source": [
    "# setup paths/directories\n",
    "POS_PATH = os.path.join('data' , 'positive')\n",
    "NEG_PATH = os.path.join('data' , 'negative')\n",
    "ANC_PATH = os.path.join('data' , 'anchor')"
   ]
  },
  {
   "cell_type": "code",
   "execution_count": 6,
   "id": "12507dc3-43f7-4fad-ac5d-8970a9836495",
   "metadata": {},
   "outputs": [],
   "source": [
    "# http://vis-www.cs.umass.edu/lfw/"
   ]
  },
  {
   "cell_type": "code",
   "execution_count": 7,
   "id": "51e3803d-de7e-49b0-9b49-05bb46400a10",
   "metadata": {},
   "outputs": [
    {
     "name": "stdout",
     "output_type": "stream",
     "text": [
      "437\n"
     ]
    }
   ],
   "source": [
    "_, _, files = next(os.walk(ANC_PATH))\n",
    "file_count = len(files)\n",
    "print(file_count)"
   ]
  },
  {
   "cell_type": "code",
   "execution_count": 8,
   "id": "b1b25911-eb26-4abb-a90a-6893132aac42",
   "metadata": {},
   "outputs": [],
   "source": [
    "import uuid\n",
    "# universally unique identifier"
   ]
  },
  {
   "cell_type": "code",
   "execution_count": 9,
   "id": "df930126-f518-474d-afa1-9d261f5f61eb",
   "metadata": {},
   "outputs": [
    {
     "data": {
      "text/plain": [
       "'561e4946-0c4b-11ee-826c-436db451dfd9.jpg'"
      ]
     },
     "execution_count": 9,
     "metadata": {},
     "output_type": "execute_result"
    }
   ],
   "source": [
    "'{}.jpg'.format(uuid.uuid1())"
   ]
  },
  {
   "cell_type": "code",
   "execution_count": 13,
   "id": "84ae9564-988a-45f4-93af-cc93cc2ed225",
   "metadata": {},
   "outputs": [
    {
     "name": "stderr",
     "output_type": "stream",
     "text": [
      "[ WARN:0@157.335] global cap_v4l.cpp:982 open VIDEOIO(V4L2:/dev/video4): can't open camera by index\n",
      "[ERROR:0@157.605] global obsensor_uvc_stream_channel.cpp:156 getStreamChannelGroup Camera index out of range\n"
     ]
    }
   ],
   "source": [
    "cap = cv2.VideoCapture(0)\n",
    "while cap.isOpened(): \n",
    "    ret, frame = cap.read()\n",
    "   \n",
    "    # Cut down frame to 250x250px\n",
    "    frame = frame[120:120+250,200:200+250, :]\n",
    "    \n",
    "    # Collect anchors \n",
    "    if cv2.waitKey(1) & 0XFF == ord('a'):\n",
    "        # Create the unique file path \n",
    "        imgname = os.path.join(ANC_PATH, '{}.jpg'.format(uuid.uuid1()))\n",
    "        # Write out anchor image\n",
    "        cv2.imwrite(imgname, frame)\n",
    "    \n",
    "    # Collect positives\n",
    "    if cv2.waitKey(1) & 0XFF == ord('p'):\n",
    "        # Create the unique file path \n",
    "        imgname = os.path.join(POS_PATH, '{}.jpg'.format(uuid.uuid1()))\n",
    "        # Write out positive image\n",
    "        cv2.imwrite(imgname, frame)\n",
    "    \n",
    "    # Show image back to screen\n",
    "    cv2.imshow('Image Collection', frame)\n",
    "    \n",
    "    # Breaking gracefully\n",
    "    if cv2.waitKey(1) & 0XFF == ord('q'):\n",
    "        break\n",
    "        \n",
    "# Release the webcam\n",
    "cap.release()\n",
    "# Close the image show frame\n",
    "cv2.destroyAllWindows()\n"
   ]
  },
  {
   "cell_type": "code",
   "execution_count": null,
   "id": "c90fed3c-64f5-4df8-a798-43a0baaf060b",
   "metadata": {},
   "outputs": [],
   "source": []
  },
  {
   "cell_type": "code",
   "execution_count": null,
   "id": "500325ff-2722-4f06-b4d5-9791bc9ab422",
   "metadata": {},
   "outputs": [],
   "source": []
  },
  {
   "cell_type": "code",
   "execution_count": null,
   "id": "38c65695-38c8-4c37-8acf-adbec1a27839",
   "metadata": {},
   "outputs": [],
   "source": []
  },
  {
   "cell_type": "code",
   "execution_count": null,
   "id": "8acbe5fb-865f-426c-9cea-bb5be7ec7629",
   "metadata": {},
   "outputs": [],
   "source": []
  },
  {
   "cell_type": "code",
   "execution_count": null,
   "id": "03003a67-5ccc-4048-9dc7-7bf7d0d4186a",
   "metadata": {},
   "outputs": [],
   "source": []
  },
  {
   "cell_type": "code",
   "execution_count": null,
   "id": "22c0a7c2-8ffe-4eec-8c38-54c761cd2bc4",
   "metadata": {},
   "outputs": [],
   "source": []
  },
  {
   "cell_type": "code",
   "execution_count": null,
   "id": "4ff145eb-474d-45f8-b7ce-10b99d007027",
   "metadata": {},
   "outputs": [],
   "source": []
  },
  {
   "cell_type": "code",
   "execution_count": null,
   "id": "5dc10ad6-4159-4806-a4cf-d567e8b2f8ed",
   "metadata": {},
   "outputs": [],
   "source": []
  },
  {
   "cell_type": "code",
   "execution_count": null,
   "id": "d64d0df1-3edb-42c6-a3a9-a4dcca55e13e",
   "metadata": {},
   "outputs": [],
   "source": []
  },
  {
   "cell_type": "code",
   "execution_count": null,
   "id": "e58f921f-baca-408e-a88a-71b1b3355680",
   "metadata": {},
   "outputs": [],
   "source": []
  },
  {
   "cell_type": "code",
   "execution_count": null,
   "id": "0245c1c5-c4d6-4411-86a2-c2957558104a",
   "metadata": {},
   "outputs": [],
   "source": []
  },
  {
   "cell_type": "code",
   "execution_count": null,
   "id": "a9ab2b08-fe14-4200-85ff-f4dc9560392a",
   "metadata": {},
   "outputs": [],
   "source": []
  },
  {
   "cell_type": "code",
   "execution_count": null,
   "id": "edfb9a9b-b3f4-4874-af61-2e6c2701a5f6",
   "metadata": {},
   "outputs": [],
   "source": []
  },
  {
   "cell_type": "code",
   "execution_count": null,
   "id": "98d0e862-4a9e-4ed6-bcba-739c400877d4",
   "metadata": {},
   "outputs": [],
   "source": []
  },
  {
   "cell_type": "code",
   "execution_count": null,
   "id": "4ebdae98-ae82-41f7-832a-e9d47057c411",
   "metadata": {},
   "outputs": [],
   "source": []
  },
  {
   "cell_type": "code",
   "execution_count": null,
   "id": "43161204-9b27-4498-b830-9a3bec76d5a0",
   "metadata": {},
   "outputs": [],
   "source": []
  },
  {
   "cell_type": "code",
   "execution_count": null,
   "id": "c937a09e-e8a3-401c-8bb0-fcac5a1a9a6a",
   "metadata": {},
   "outputs": [],
   "source": []
  },
  {
   "cell_type": "code",
   "execution_count": null,
   "id": "eb89b3f9-2438-46f6-862d-1dd3c8bb6f3a",
   "metadata": {},
   "outputs": [],
   "source": []
  },
  {
   "cell_type": "code",
   "execution_count": null,
   "id": "75b40659-236b-434d-8220-31ea6b916f79",
   "metadata": {},
   "outputs": [],
   "source": []
  },
  {
   "cell_type": "code",
   "execution_count": null,
   "id": "24d771d4-9667-4a70-a577-770032592bdb",
   "metadata": {},
   "outputs": [],
   "source": []
  },
  {
   "cell_type": "code",
   "execution_count": null,
   "id": "1479e7bb-eed9-412a-a7a0-08d0302cd694",
   "metadata": {},
   "outputs": [],
   "source": []
  },
  {
   "cell_type": "code",
   "execution_count": null,
   "id": "12ece083-1145-43a4-b6cc-20e7e8c73d8e",
   "metadata": {},
   "outputs": [],
   "source": []
  },
  {
   "cell_type": "code",
   "execution_count": null,
   "id": "30f8b1e8-7d57-47ec-a03d-a6445e1e6f1f",
   "metadata": {},
   "outputs": [],
   "source": []
  },
  {
   "cell_type": "code",
   "execution_count": null,
   "id": "2e7de094-8a72-47fa-a521-7de1b03c8797",
   "metadata": {},
   "outputs": [],
   "source": []
  },
  {
   "cell_type": "code",
   "execution_count": null,
   "id": "b1758a4b-4546-472e-8889-999ccfd135da",
   "metadata": {},
   "outputs": [],
   "source": []
  },
  {
   "cell_type": "code",
   "execution_count": null,
   "id": "118b0312-dc0f-498f-890b-80488cbc7bf4",
   "metadata": {},
   "outputs": [],
   "source": []
  },
  {
   "cell_type": "code",
   "execution_count": null,
   "id": "d2c88141-388a-4b13-9474-fad27e51238e",
   "metadata": {},
   "outputs": [],
   "source": []
  },
  {
   "cell_type": "code",
   "execution_count": null,
   "id": "05440d54-9801-43f9-adc5-d461d92b23ab",
   "metadata": {},
   "outputs": [],
   "source": []
  },
  {
   "cell_type": "code",
   "execution_count": null,
   "id": "edbcf7d5-d3a5-4a42-88a4-cb47839d37ed",
   "metadata": {},
   "outputs": [],
   "source": []
  },
  {
   "cell_type": "code",
   "execution_count": null,
   "id": "b71784b1-844a-4501-8bdd-112547c77b80",
   "metadata": {},
   "outputs": [],
   "source": []
  },
  {
   "cell_type": "code",
   "execution_count": null,
   "id": "f09158cc-ed40-4ee9-8df2-97f399782810",
   "metadata": {},
   "outputs": [],
   "source": []
  }
 ],
 "metadata": {
  "kernelspec": {
   "display_name": "Python 3 (ipykernel)",
   "language": "python",
   "name": "python3"
  },
  "language_info": {
   "codemirror_mode": {
    "name": "ipython",
    "version": 3
   },
   "file_extension": ".py",
   "mimetype": "text/x-python",
   "name": "python",
   "nbconvert_exporter": "python",
   "pygments_lexer": "ipython3",
   "version": "3.10.6"
  }
 },
 "nbformat": 4,
 "nbformat_minor": 5
}
