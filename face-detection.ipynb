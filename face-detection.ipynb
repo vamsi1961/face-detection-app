{
 "cells": [
  {
   "cell_type": "code",
   "execution_count": 3,
   "id": "2cffb624-075b-41fb-82f2-3e1d79c0fae4",
   "metadata": {},
   "outputs": [
    {
     "name": "stdout",
     "output_type": "stream",
     "text": [
      "Defaulting to user installation because normal site-packages is not writeable\n",
      "Requirement already satisfied: tensorflow==2.12.0 in /home/kishore/.local/lib/python3.10/site-packages (2.12.0)\n",
      "Requirement already satisfied: opencv-python in /home/kishore/.local/lib/python3.10/site-packages (4.7.0.72)\n",
      "Requirement already satisfied: matplotlib in /usr/lib/python3/dist-packages (3.5.1)\n",
      "Requirement already satisfied: keras<2.13,>=2.12.0 in /home/kishore/.local/lib/python3.10/site-packages (from tensorflow==2.12.0) (2.12.0)\n",
      "Requirement already satisfied: grpcio<2.0,>=1.24.3 in /home/kishore/.local/lib/python3.10/site-packages (from tensorflow==2.12.0) (1.54.2)\n",
      "Requirement already satisfied: wrapt<1.15,>=1.11.0 in /usr/lib/python3/dist-packages (from tensorflow==2.12.0) (1.13.3)\n",
      "Requirement already satisfied: numpy<1.24,>=1.22 in /home/kishore/.local/lib/python3.10/site-packages (from tensorflow==2.12.0) (1.23.5)\n",
      "Requirement already satisfied: gast<=0.4.0,>=0.2.1 in /home/kishore/.local/lib/python3.10/site-packages (from tensorflow==2.12.0) (0.4.0)\n",
      "Requirement already satisfied: h5py>=2.9.0 in /home/kishore/.local/lib/python3.10/site-packages (from tensorflow==2.12.0) (3.8.0)\n",
      "Requirement already satisfied: absl-py>=1.0.0 in /home/kishore/.local/lib/python3.10/site-packages (from tensorflow==2.12.0) (1.4.0)\n",
      "Requirement already satisfied: six>=1.12.0 in /usr/lib/python3/dist-packages (from tensorflow==2.12.0) (1.16.0)\n",
      "Requirement already satisfied: protobuf!=4.21.0,!=4.21.1,!=4.21.2,!=4.21.3,!=4.21.4,!=4.21.5,<5.0.0dev,>=3.20.3 in /home/kishore/.local/lib/python3.10/site-packages (from tensorflow==2.12.0) (4.23.2)\n",
      "Requirement already satisfied: typing-extensions>=3.6.6 in /home/kishore/.local/lib/python3.10/site-packages (from tensorflow==2.12.0) (4.6.3)\n",
      "Requirement already satisfied: tensorflow-estimator<2.13,>=2.12.0 in /home/kishore/.local/lib/python3.10/site-packages (from tensorflow==2.12.0) (2.12.0)\n",
      "Requirement already satisfied: jax>=0.3.15 in /home/kishore/.local/lib/python3.10/site-packages (from tensorflow==2.12.0) (0.4.12)\n",
      "Requirement already satisfied: termcolor>=1.1.0 in /home/kishore/.local/lib/python3.10/site-packages (from tensorflow==2.12.0) (2.3.0)\n",
      "Requirement already satisfied: setuptools in /usr/lib/python3/dist-packages (from tensorflow==2.12.0) (59.6.0)\n",
      "Requirement already satisfied: packaging in /usr/lib/python3/dist-packages (from tensorflow==2.12.0) (21.3)\n",
      "Requirement already satisfied: tensorboard<2.13,>=2.12 in /home/kishore/.local/lib/python3.10/site-packages (from tensorflow==2.12.0) (2.12.3)\n",
      "Requirement already satisfied: google-pasta>=0.1.1 in /home/kishore/.local/lib/python3.10/site-packages (from tensorflow==2.12.0) (0.2.0)\n",
      "Requirement already satisfied: flatbuffers>=2.0 in /home/kishore/.local/lib/python3.10/site-packages (from tensorflow==2.12.0) (23.5.26)\n",
      "Requirement already satisfied: astunparse>=1.6.0 in /home/kishore/.local/lib/python3.10/site-packages (from tensorflow==2.12.0) (1.6.3)\n",
      "Requirement already satisfied: libclang>=13.0.0 in /home/kishore/.local/lib/python3.10/site-packages (from tensorflow==2.12.0) (16.0.0)\n",
      "Requirement already satisfied: opt-einsum>=2.3.2 in /home/kishore/.local/lib/python3.10/site-packages (from tensorflow==2.12.0) (3.3.0)\n",
      "Requirement already satisfied: tensorflow-io-gcs-filesystem>=0.23.1 in /home/kishore/.local/lib/python3.10/site-packages (from tensorflow==2.12.0) (0.32.0)\n",
      "Requirement already satisfied: wheel<1.0,>=0.23.0 in /usr/lib/python3/dist-packages (from astunparse>=1.6.0->tensorflow==2.12.0) (0.37.1)\n",
      "Requirement already satisfied: ml-dtypes>=0.1.0 in /home/kishore/.local/lib/python3.10/site-packages (from jax>=0.3.15->tensorflow==2.12.0) (0.2.0)\n",
      "Requirement already satisfied: scipy>=1.7 in /usr/lib/python3/dist-packages (from jax>=0.3.15->tensorflow==2.12.0) (1.8.0)\n",
      "Requirement already satisfied: google-auth-oauthlib<1.1,>=0.5 in /home/kishore/.local/lib/python3.10/site-packages (from tensorboard<2.13,>=2.12->tensorflow==2.12.0) (1.0.0)\n",
      "Requirement already satisfied: tensorboard-data-server<0.8.0,>=0.7.0 in /home/kishore/.local/lib/python3.10/site-packages (from tensorboard<2.13,>=2.12->tensorflow==2.12.0) (0.7.0)\n",
      "Requirement already satisfied: requests<3,>=2.21.0 in /home/kishore/.local/lib/python3.10/site-packages (from tensorboard<2.13,>=2.12->tensorflow==2.12.0) (2.31.0)\n",
      "Requirement already satisfied: werkzeug>=1.0.1 in /home/kishore/.local/lib/python3.10/site-packages (from tensorboard<2.13,>=2.12->tensorflow==2.12.0) (2.3.6)\n",
      "Requirement already satisfied: google-auth<3,>=1.6.3 in /home/kishore/.local/lib/python3.10/site-packages (from tensorboard<2.13,>=2.12->tensorflow==2.12.0) (2.19.1)\n",
      "Requirement already satisfied: markdown>=2.6.8 in /home/kishore/.local/lib/python3.10/site-packages (from tensorboard<2.13,>=2.12->tensorflow==2.12.0) (3.4.3)\n",
      "Requirement already satisfied: rsa<5,>=3.1.4 in /home/kishore/.local/lib/python3.10/site-packages (from google-auth<3,>=1.6.3->tensorboard<2.13,>=2.12->tensorflow==2.12.0) (4.9)\n",
      "Requirement already satisfied: urllib3<2.0 in /usr/lib/python3/dist-packages (from google-auth<3,>=1.6.3->tensorboard<2.13,>=2.12->tensorflow==2.12.0) (1.26.5)\n",
      "Requirement already satisfied: cachetools<6.0,>=2.0.0 in /home/kishore/.local/lib/python3.10/site-packages (from google-auth<3,>=1.6.3->tensorboard<2.13,>=2.12->tensorflow==2.12.0) (5.3.1)\n",
      "Requirement already satisfied: pyasn1-modules>=0.2.1 in /home/kishore/.local/lib/python3.10/site-packages (from google-auth<3,>=1.6.3->tensorboard<2.13,>=2.12->tensorflow==2.12.0) (0.3.0)\n",
      "Requirement already satisfied: requests-oauthlib>=0.7.0 in /home/kishore/.local/lib/python3.10/site-packages (from google-auth-oauthlib<1.1,>=0.5->tensorboard<2.13,>=2.12->tensorflow==2.12.0) (1.3.1)\n",
      "Requirement already satisfied: charset-normalizer<4,>=2 in /home/kishore/.local/lib/python3.10/site-packages (from requests<3,>=2.21.0->tensorboard<2.13,>=2.12->tensorflow==2.12.0) (3.1.0)\n",
      "Requirement already satisfied: idna<4,>=2.5 in /usr/lib/python3/dist-packages (from requests<3,>=2.21.0->tensorboard<2.13,>=2.12->tensorflow==2.12.0) (3.3)\n",
      "Requirement already satisfied: certifi>=2017.4.17 in /usr/lib/python3/dist-packages (from requests<3,>=2.21.0->tensorboard<2.13,>=2.12->tensorflow==2.12.0) (2020.6.20)\n",
      "Requirement already satisfied: MarkupSafe>=2.1.1 in /home/kishore/.local/lib/python3.10/site-packages (from werkzeug>=1.0.1->tensorboard<2.13,>=2.12->tensorflow==2.12.0) (2.1.3)\n",
      "Requirement already satisfied: pyasn1<0.6.0,>=0.4.6 in /home/kishore/.local/lib/python3.10/site-packages (from pyasn1-modules>=0.2.1->google-auth<3,>=1.6.3->tensorboard<2.13,>=2.12->tensorflow==2.12.0) (0.5.0)\n",
      "Requirement already satisfied: oauthlib>=3.0.0 in /usr/lib/python3/dist-packages (from requests-oauthlib>=0.7.0->google-auth-oauthlib<1.1,>=0.5->tensorboard<2.13,>=2.12->tensorflow==2.12.0) (3.2.0)\n"
     ]
    }
   ],
   "source": [
    "!pip install tensorflow==2.12.0 opencv-python matplotlib"
   ]
  },
  {
   "cell_type": "code",
   "execution_count": 4,
   "id": "42da97a6-7685-473e-98f8-d406291c7d87",
   "metadata": {},
   "outputs": [],
   "source": [
    "import cv2\n",
    "import os\n",
    "import random\n",
    "import numpy as np\n",
    "from matplotlib import pyplot as plt"
   ]
  },
  {
   "cell_type": "code",
   "execution_count": 5,
   "id": "ae3c0188-e7c4-479a-9e00-be8376327787",
   "metadata": {},
   "outputs": [],
   "source": [
    "# Import tensorflow dependencies functional API\n",
    "\n",
    "\n",
    "from tensorflow.keras.models import Model\n",
    "# In Model u pass inputs and outputs \"Model(inputs=[inputimage, verificatioimage] ,outputss[1,0])\"\n",
    "#\n",
    "from tensorflow.keras.layers import Layer,Conv2D,Dense,MaxPooling2D,Input,Flatten\n",
    "\n",
    "# Layer class is a high level layer allows us to define a custom layer and we can create a whole new class and generate a new Layer\n",
    "# class L1Dist(Layer)\n",
    "\n",
    "# Input says what input is to be given\n",
    "\n",
    "# Flatten => COnvert convolutinal layer to dense layer\n",
    "\n",
    "import tensorflow as tf\n",
    "# "
   ]
  },
  {
   "cell_type": "code",
   "execution_count": 6,
   "id": "73611a70-ae7b-42a8-8b84-14da75a2aff4",
   "metadata": {},
   "outputs": [],
   "source": [
    "# setup paths/directories\n",
    "POS_PATH = os.path.join('data' , 'positive')\n",
    "NEG_PATH = os.path.join('data' , 'negative')\n",
    "ANC_PATH = os.path.join('data' , 'anchor')"
   ]
  },
  {
   "cell_type": "code",
   "execution_count": 7,
   "id": "5e6fcb78-a09c-466c-83bc-bff7b7d9e10d",
   "metadata": {},
   "outputs": [
    {
     "ename": "FileExistsError",
     "evalue": "[Errno 17] File exists: 'data/positive'",
     "output_type": "error",
     "traceback": [
      "\u001b[0;31m---------------------------------------------------------------------------\u001b[0m",
      "\u001b[0;31mFileExistsError\u001b[0m                           Traceback (most recent call last)",
      "Cell \u001b[0;32mIn[7], line 1\u001b[0m\n\u001b[0;32m----> 1\u001b[0m \u001b[43mos\u001b[49m\u001b[38;5;241;43m.\u001b[39;49m\u001b[43mmakedirs\u001b[49m\u001b[43m(\u001b[49m\u001b[43mPOS_PATH\u001b[49m\u001b[43m)\u001b[49m\n\u001b[1;32m      2\u001b[0m os\u001b[38;5;241m.\u001b[39mmakedirs(NEG_PATH)\n\u001b[1;32m      3\u001b[0m os\u001b[38;5;241m.\u001b[39mmakedirs(ANC_PATH)\n",
      "File \u001b[0;32m/usr/lib/python3.10/os.py:225\u001b[0m, in \u001b[0;36mmakedirs\u001b[0;34m(name, mode, exist_ok)\u001b[0m\n\u001b[1;32m    223\u001b[0m         \u001b[38;5;28;01mreturn\u001b[39;00m\n\u001b[1;32m    224\u001b[0m \u001b[38;5;28;01mtry\u001b[39;00m:\n\u001b[0;32m--> 225\u001b[0m     \u001b[43mmkdir\u001b[49m\u001b[43m(\u001b[49m\u001b[43mname\u001b[49m\u001b[43m,\u001b[49m\u001b[43m \u001b[49m\u001b[43mmode\u001b[49m\u001b[43m)\u001b[49m\n\u001b[1;32m    226\u001b[0m \u001b[38;5;28;01mexcept\u001b[39;00m \u001b[38;5;167;01mOSError\u001b[39;00m:\n\u001b[1;32m    227\u001b[0m     \u001b[38;5;66;03m# Cannot rely on checking for EEXIST, since the operating system\u001b[39;00m\n\u001b[1;32m    228\u001b[0m     \u001b[38;5;66;03m# could give priority to other errors like EACCES or EROFS\u001b[39;00m\n\u001b[1;32m    229\u001b[0m     \u001b[38;5;28;01mif\u001b[39;00m \u001b[38;5;129;01mnot\u001b[39;00m exist_ok \u001b[38;5;129;01mor\u001b[39;00m \u001b[38;5;129;01mnot\u001b[39;00m path\u001b[38;5;241m.\u001b[39misdir(name):\n",
      "\u001b[0;31mFileExistsError\u001b[0m: [Errno 17] File exists: 'data/positive'"
     ]
    }
   ],
   "source": [
    "os.makedirs(POS_PATH)\n",
    "os.makedirs(NEG_PATH)\n",
    "os.makedirs(ANC_PATH)"
   ]
  },
  {
   "cell_type": "code",
   "execution_count": null,
   "id": "12507dc3-43f7-4fad-ac5d-8970a9836495",
   "metadata": {},
   "outputs": [],
   "source": [
    "# http://vis-www.cs.umass.edu/lfw/"
   ]
  },
  {
   "cell_type": "code",
   "execution_count": 8,
   "id": "52072e83-6665-40a4-bf3f-fc965631d4a3",
   "metadata": {},
   "outputs": [],
   "source": [
    "!tar -xf lfw.tgz"
   ]
  },
  {
   "cell_type": "code",
   "execution_count": 31,
   "id": "56adfa2c-53e2-4c04-a7a3-e18e6f66f693",
   "metadata": {},
   "outputs": [],
   "source": [
    "for directory in os.listdir('lfw'):\n",
    "    for file in os.listdir(os.path.join('lfw',directory)):\n",
    "        \n",
    "        EX_PATH = os.path.join( '1fw', directory, file)\n",
    "        NEW_PATH = os.path.join(NEG_PATH, file)\n",
    "\n",
    "        EX_PATH = 'lfw\\\\' + str(directory) +\"\\\\\" +str(file)\n",
    "\n",
    "        print(\"btjhgt\")\n",
    "        print(EX_PATH)\n",
    "        print(NEW_PATH)\n",
    "        \n",
    "        os.replace(EX_PATH, NEW_PATH)"
   ]
  },
  {
   "cell_type": "code",
   "execution_count": 37,
   "id": "b1b25911-eb26-4abb-a90a-6893132aac42",
   "metadata": {},
   "outputs": [],
   "source": [
    "import uuid\n",
    "# universally unique identifier"
   ]
  },
  {
   "cell_type": "code",
   "execution_count": 38,
   "id": "df930126-f518-474d-afa1-9d261f5f61eb",
   "metadata": {},
   "outputs": [
    {
     "data": {
      "text/plain": [
       "'41951d36-0a18-11ee-b126-f9fa77aa3582.jpg'"
      ]
     },
     "execution_count": 38,
     "metadata": {},
     "output_type": "execute_result"
    }
   ],
   "source": [
    "'{}.jpg'.format(uuid.uuid1())"
   ]
  },
  {
   "cell_type": "code",
   "execution_count": 40,
   "id": "84ae9564-988a-45f4-93af-cc93cc2ed225",
   "metadata": {},
   "outputs": [],
   "source": [
    "cap = cv2.VideoCapture(0)\n",
    "while cap.isOpened():\n",
    "    ret,frame = cap.read()\n",
    "    # cut down frame to 250*250\n",
    "    frame = frame[120:120+250,200:200+250, : ]\n",
    "\n",
    "\n",
    "    # collect anchors\n",
    "    if cv2.waitKey(1) & 0XFF == ord('a') :\n",
    "        # create a unique file path\n",
    "        imgname = os.path.join(ANC_PATH , '{}.jpg'.format(uuid.uuid1()))\n",
    "        # write out anchor image\n",
    "        cv2.imwrite(imgname,frame)\n",
    "\n",
    "    # collect positives\n",
    "    if cv2.waitKey(1) & 0XFF == ord('p') :\n",
    "        # create a unique file path\n",
    "        imgname = os.path.join(POS_PATH , '{}.jpg'.format(uuid.uuid1()))\n",
    "        # write out anchor image\n",
    "        cv2.imwrite(imgname,frame)\n",
    "\n",
    "    \n",
    "\n",
    "    cv2.imshow(\"Image\" , frame)\n",
    "\n",
    "    if cv2.waitKey(1) & 0XFF == ord('q') :\n",
    "        break\n",
    "\n",
    "cap.release()\n",
    "cv2.destroyAllWindows()\n"
   ]
  },
  {
   "cell_type": "code",
   "execution_count": null,
   "id": "b71784b1-844a-4501-8bdd-112547c77b80",
   "metadata": {},
   "outputs": [],
   "source": []
  },
  {
   "cell_type": "code",
   "execution_count": null,
   "id": "f09158cc-ed40-4ee9-8df2-97f399782810",
   "metadata": {},
   "outputs": [],
   "source": []
  }
 ],
 "metadata": {
  "kernelspec": {
   "display_name": "Python 3 (ipykernel)",
   "language": "python",
   "name": "python3"
  },
  "language_info": {
   "codemirror_mode": {
    "name": "ipython",
    "version": 3
   },
   "file_extension": ".py",
   "mimetype": "text/x-python",
   "name": "python",
   "nbconvert_exporter": "python",
   "pygments_lexer": "ipython3",
   "version": "3.10.6"
  }
 },
 "nbformat": 4,
 "nbformat_minor": 5
}
